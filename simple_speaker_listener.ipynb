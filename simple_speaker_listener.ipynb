{
 "cells": [
  {
   "cell_type": "code",
   "execution_count": 1,
   "id": "babc9d11-2435-4e60-9a81-34dd5bac6c0d",
   "metadata": {},
   "outputs": [],
   "source": [
    "from pettingzoo.mpe import simple_speaker_listener_v4"
   ]
  },
  {
   "cell_type": "code",
   "execution_count": 2,
   "id": "0914fc1d-59bc-4e22-8526-af0111485e1b",
   "metadata": {},
   "outputs": [],
   "source": [
    "env = simple_speaker_listener_v4.env(max_cycles=25, continuous_actions=False, render_mode=\"rgb_array\")"
   ]
  },
  {
   "cell_type": "code",
   "execution_count": 3,
   "id": "b066ffed-ec75-4593-8551-ae62053c8bde",
   "metadata": {},
   "outputs": [],
   "source": [
    "env.reset()"
   ]
  },
  {
   "cell_type": "code",
   "execution_count": 4,
   "id": "4f9dc28b-2fb7-4e32-b0af-bdbb595bd1f8",
   "metadata": {},
   "outputs": [
    {
     "data": {
      "text/plain": [
       "['speaker_0', 'listener_0']"
      ]
     },
     "execution_count": 4,
     "metadata": {},
     "output_type": "execute_result"
    }
   ],
   "source": [
    "env.agents"
   ]
  },
  {
   "cell_type": "code",
   "execution_count": 5,
   "id": "0a89ae33-76a5-4685-9c5e-29cc8e485f0e",
   "metadata": {},
   "outputs": [
    {
     "name": "stdout",
     "output_type": "stream",
     "text": [
      "speaker_0 Box(-inf, inf, (3,), float32)\n",
      "listener_0 Box(-inf, inf, (11,), float32)\n"
     ]
    }
   ],
   "source": [
    "for agent in env.agents:\n",
    "    print(agent, env.observation_space(agent))"
   ]
  },
  {
   "cell_type": "markdown",
   "id": "4dd7e04a-c2a8-4ed2-8f5f-e3183a61f7e7",
   "metadata": {},
   "source": [
    "## Observation Space\n",
    "**Speaker's Observation Space (`Box(-inf, inf, (3,), float32)`):**\n",
    "\n",
    "The speaker's observation is a 3-dimensional vector comprising:\n",
    "\n",
    "1. **Goal Color**: A 3-element array representing the RGB color of the target landmark. This information is crucial for the speaker to identify and communicate the correct landmark to the listener.\n",
    "\n",
    "**Listener's Observation Space (`Box(-inf, inf, (11,), float32)`):**\n",
    "\n",
    "The listener's observation is an 11-dimensional vector consisting of:\n",
    "\n",
    "1. **Self Velocity**: A 2-element array indicating the listener's current velocity in the environment.\n",
    "2. **Relative Positions of All Landmarks**: Three 2-element arrays (totaling 6 elements) representing the positions of each landmark relative to the listener's current position.\n",
    "3. **Communication from Speaker**: A 3-element array containing the message sent by the speaker, which typically encodes the target landmark's color. "
   ]
  },
  {
   "cell_type": "code",
   "execution_count": 6,
   "id": "6b71870d-c8f1-4624-8f46-59e95f3e49f4",
   "metadata": {},
   "outputs": [
    {
     "name": "stdout",
     "output_type": "stream",
     "text": [
      "speaker_0 Discrete(3)\n",
      "listener_0 Discrete(5)\n"
     ]
    }
   ],
   "source": [
    "for agent in env.agents:\n",
    "    print(agent, env.action_space(agent))"
   ]
  },
  {
   "cell_type": "markdown",
   "id": "c5cea33c-9958-4024-9ae5-89a8e5c04302",
   "metadata": {},
   "source": [
    "## Action Space\n",
    "In the PettingZoo environment `simple_speaker_listener_v4`, the action spaces for the agents are defined as follows:\n",
    "\n",
    "**Speaker's Action Space (`Discrete(3)`):**\n",
    "\n",
    "The speaker has 10 discrete actions, each corresponding to a unique message it can send to the listener. These actions are:\n",
    "\n",
    "- `say_0`\n",
    "- `say_1`\n",
    "- `say_2`\n",
    "\n",
    "Each action transmits a specific message to the listener, aiding in identifying the target landmark.\n",
    "\n",
    "**Listener's Action Space (`Discrete(5)`):**\n",
    "\n",
    "The listener has 5 discrete actions, dictating its movement within the environment:\n",
    "\n",
    "- `no_action`: Remain stationary.\n",
    "- `move_left`: Move left.\n",
    "- `move_right`: Move right.\n",
    "- `move_down`: Move down.\n",
    "- `move_up`: Move up.\n",
    "\n",
    "These actions enable the listener to navigate towards the target landmark based on the speaker's messages."
   ]
  },
  {
   "cell_type": "code",
   "execution_count": 7,
   "id": "9f7ee57e-d670-4489-879d-bd1aaa398cae",
   "metadata": {},
   "outputs": [
    {
     "data": {
      "text/plain": [
       "array([0.65, 0.15, 0.15], dtype=float32)"
      ]
     },
     "execution_count": 7,
     "metadata": {},
     "output_type": "execute_result"
    }
   ],
   "source": [
    "observation, reward, termination, trunc, info = env.last()\n",
    "observation"
   ]
  },
  {
   "cell_type": "markdown",
   "id": "61f1c0d4-1ac5-4832-9929-eed4f24bfa2c",
   "metadata": {},
   "source": [
    "## Speaker's Observation:\n",
    "In the `simple_speaker_listener_v4` environment, the speaker's observation is represented by the `goal_color`, which is a 3-element array corresponding to the RGB (Red, Green, Blue) values of the target landmark's colour. ([GitHub](https://github.com/Farama-Foundation/PettingZoo/blob/master/pettingzoo/mpe/simple_speaker_listener/simple_speaker_listener.py?utm_source=chatgpt.com))\n",
    "\n",
    "The array `[0.65, 0.15, 0.15]` signifies:\n",
    "\n",
    "- **Red component**: 0.65\n",
    "- **Green component**: 0.15\n",
    "- **Blue component**: 0.15\n",
    "\n",
    "This indicates that the target landmark is primarily red in colour. "
   ]
  },
  {
   "cell_type": "code",
   "execution_count": 9,
   "id": "fcda9c52-c959-4fd1-a43c-11280808fb94",
   "metadata": {},
   "outputs": [
    {
     "data": {
      "text/plain": [
       "array([ 0.        ,  0.        , -0.05328575,  0.4192263 , -0.62044495,\n",
       "        0.13264017, -1.110282  ,  1.009471  ,  0.        ,  0.        ,\n",
       "        0.        ], dtype=float32)"
      ]
     },
     "execution_count": 9,
     "metadata": {},
     "output_type": "execute_result"
    }
   ],
   "source": [
    "env.agent_selection = env.agents[1]\n",
    "observation, reward, termination, trunc, info = env.last()\n",
    "observation"
   ]
  },
  {
   "cell_type": "markdown",
   "id": "1cd88484-5a18-4f06-8f43-ae00551e4891",
   "metadata": {},
   "source": [
    "## Listener's observation\n",
    "In the `simple_speaker_listener_v4` environment, the listener's observation is an array comprising:\n",
    "\n",
    "- **Self Velocity**: The listener's own velocity components.\n",
    "- **Relative Positions of All Landmarks**: The positions of all landmarks relative to the listener's current position.\n",
    "- **Communication from the Speaker**: The message or communication received from the speaker agent."
   ]
  },
  {
   "cell_type": "code",
   "execution_count": 10,
   "id": "4d2d06f4-1a80-41f2-862d-c9720c781739",
   "metadata": {
    "scrolled": true
   },
   "outputs": [
    {
     "name": "stdout",
     "output_type": "stream",
     "text": [
      "Agent index: listener_0\n",
      "Agent index: listener_0\n",
      "Agent index: listener_0\n",
      "Agent index: listener_0\n",
      "Agent index: listener_0\n",
      "Agent index: listener_0\n",
      "Agent index: listener_0\n",
      "Agent index: listener_0\n",
      "Agent index: listener_0\n",
      "Agent index: listener_0\n",
      "Agent index: listener_0\n",
      "Agent index: listener_0\n",
      "Agent index: listener_0\n",
      "Agent index: listener_0\n",
      "Agent index: listener_0\n",
      "Agent index: listener_0\n",
      "Agent index: listener_0\n",
      "Agent index: listener_0\n",
      "Agent index: listener_0\n",
      "Agent index: listener_0\n",
      "Agent index: listener_0\n",
      "Agent index: listener_0\n",
      "Agent index: listener_0\n",
      "Agent index: listener_0\n",
      "Agent index: listener_0\n",
      "Agent index: listener_0\n",
      "Agent index: listener_0\n",
      "Agent index: listener_0\n",
      "Agent index: listener_0\n",
      "Agent index: listener_0\n",
      "Agent index: listener_0\n",
      "Agent index: listener_0\n",
      "Agent index: listener_0\n",
      "Agent index: listener_0\n",
      "Agent index: listener_0\n",
      "Agent index: listener_0\n",
      "Agent index: listener_0\n",
      "Agent index: listener_0\n",
      "Agent index: listener_0\n",
      "Agent index: listener_0\n",
      "Agent index: listener_0\n",
      "Agent index: listener_0\n",
      "Agent index: listener_0\n",
      "Agent index: listener_0\n",
      "Agent index: listener_0\n",
      "Agent index: listener_0\n",
      "Agent index: listener_0\n",
      "Agent index: listener_0\n",
      "Agent index: listener_0\n",
      "Agent index: listener_0\n",
      "Agent index: listener_0\n",
      "Agent index: listener_0\n"
     ]
    }
   ],
   "source": [
    "# Reset the environment to its initial state\n",
    "env.reset()\n",
    "\n",
    "# Iterate over each agent in the environment\n",
    "for agent in env.agent_iter():\n",
    "    # Print the current agent's identifier\n",
    "    print(f\"Agent index: {agent}\")\n",
    "    \n",
    "    # Retrieve the last observation, reward, termination, truncation, and info for the current agent\n",
    "    observation, reward, termination, truncation, info = env.last()\n",
    "    \n",
    "    # Initialize the action variable\n",
    "    action = None\n",
    "    \n",
    "    # Determine the action to take if the agent is neither terminated nor truncated\n",
    "    if not (termination or truncation):\n",
    "        # Assign a default action (e.g., action 0) or implement a policy to select an action\n",
    "        action = 0  # Replace with a policy-based action selection if available\n",
    "    \n",
    "    # Execute the chosen action in the environment\n",
    "    env.step(action)\n"
   ]
  },
  {
   "cell_type": "markdown",
   "id": "039161ea-803e-4040-8ce8-91592d9c10b9",
   "metadata": {},
   "source": [
    "## why only listener here?\n",
    "The agent_iter() function iterates over agents that are expected to take actions. Since the speaker cannot move and its only action is to send a fixed message, it doesn't require iterative action decisions during the environment's execution. Therefore, agent_iter() primarily yields the listener, who needs to decide on movement actions based on the received communication."
   ]
  },
  {
   "cell_type": "code",
   "execution_count": 12,
   "id": "47384422-d465-401b-9b83-36449f634f5d",
   "metadata": {},
   "outputs": [],
   "source": [
    "class SpeakerPolicy:\n",
    "    \"\"\"Policy class for the Speaker agent in the simple_speaker_listener_v4 environment.\"\"\"\n",
    "    \n",
    "    def __init__(self, world):\n",
    "        \"\"\"\n",
    "        Initializes the SpeakerPolicy with a memory mapping of landmark colors to their indices.\n",
    "        \n",
    "        Args:\n",
    "            world: The environment world object containing landmarks.\n",
    "        \"\"\"\n",
    "        # Create a dictionary mapping each landmark's color (as a string) to its index\n",
    "        self._goal_memory = {\n",
    "            str(land.color): idx\n",
    "            for idx, land in enumerate(world.landmarks)\n",
    "        }\n",
    "    \n",
    "    def predict(self, observation):\n",
    "        \"\"\"\n",
    "        Predicts the optimal action (landmark index) based on the observed goal color.\n",
    "        \n",
    "        Args:\n",
    "            observation: The observed goal color.\n",
    "        \n",
    "        Returns:\n",
    "            The index of the landmark corresponding to the observed goal color.\n",
    "        \"\"\"\n",
    "        # Convert the observation (goal color) to a string to match the keys in _goal_memory\n",
    "        goal_id = str(observation)\n",
    "        # Retrieve and return the index of the landmark with the matching color\n",
    "        return self._goal_memory[goal_id]"
   ]
  },
  {
   "cell_type": "code",
   "execution_count": 13,
   "id": "48973469-f7fe-4e2b-89e7-4a6dc74e853c",
   "metadata": {},
   "outputs": [],
   "source": [
    "class ListenerPolicy:\n",
    "    \"\"\"Smart listener: identifies communication channels, \n",
    "    decodes them, and navigates towards the given goal.\"\"\"\n",
    "    \n",
    "    def predict(self, observation):\n",
    "        \"\"\"\n",
    "        Policy prediction for the listener.\n",
    "        Input: \n",
    "            - observation: Current environment observation for the listener, \n",
    "              including communication and goal positions.\n",
    "        Output:\n",
    "            - Optimal action: Encoded movement towards the goal.\n",
    "        \"\"\"\n",
    "        # Extract the last 3 elements of the observation, which represent communication channels\n",
    "        com_channels = observation[-3:]\n",
    "        \n",
    "        # Default goal ID set to 0 (in case no valid communication is detected)\n",
    "        goal_id = 0\n",
    "        \n",
    "        # Identify which communication channel is active (goal identifier)\n",
    "        goal = np.where(com_channels)[0]\n",
    "        \n",
    "        # Check if any goal is communicated\n",
    "        if goal.size > 0:\n",
    "            # Extract the goal ID from the active communication channel\n",
    "            goal_id = int(goal)\n",
    "        \n",
    "        # Determine the position of the identified goal from the observation\n",
    "        goal_pos = observation[(goal_id * 2 + 2):(goal_id * 2 + 4)]\n",
    "        \n",
    "        # Decide the axis (x or y) based on which direction is further away\n",
    "        axis = np.argmax(np.abs(goal_pos))\n",
    "        \n",
    "        # If the goal position on the chosen axis is negative, move in the negative direction\n",
    "        if goal_pos[axis] < 0:\n",
    "            return axis * 2 + 1  # Encodes movement in the negative direction\n",
    "        \n",
    "        # Otherwise, move in the positive direction\n",
    "        return axis * 2 + 2  # Encodes movement in the positive direction\n",
    "\n",
    "\n",
    "def policy(observation, agent):\n",
    "    \"\"\"\n",
    "    Policy switcher based on the agent type.\n",
    "    Input:\n",
    "        - observation: The agent's observation of the environment.\n",
    "        - agent: The identifier of the current agent.\n",
    "    Output:\n",
    "        - The chosen action based on the agent's policy.\n",
    "    \"\"\"\n",
    "    # If the agent is the speaker, use the SpeakerPolicy to determine the action\n",
    "    if agent == \"speaker_0\":\n",
    "        return speaker_policy.predict(observation)\n",
    "    \n",
    "    # Otherwise, use the ListenerPolicy to determine the action\n",
    "    return listener_policy.predict(observation)\n"
   ]
  },
  {
   "cell_type": "code",
   "execution_count": 14,
   "id": "3a7e4af3-aa0b-41e9-9297-19db786cb245",
   "metadata": {},
   "outputs": [],
   "source": [
    "num_episodes = 1  # Set the number of episodes for the environment simulation\n",
    "\n",
    "# Loop through each episode\n",
    "for ep in range(num_episodes):\n",
    "    env.reset()  # Reset the environment to its initial state\n",
    "\n",
    "    # Initialise the Speaker and Listener policies with their respective configurations\n",
    "    speaker_policy = SpeakerPolicy(env.env.world)  # Speaker policy based on the environment's world\n",
    "    listener_policy = ListenerPolicy()  # Listener policy to handle navigation and goal-following\n",
    "\n",
    "    # Initialise total rewards for each agent to track performance\n",
    "    total_reward = {agent: 0 for agent in env.agents}\n",
    "\n",
    "    # Iterate through each agent in the environment using agent iteration\n",
    "    for agent in env.agent_iter():\n",
    "        # Retrieve the latest observation, reward, termination, truncation, and additional info for the current agent\n",
    "        observation, reward, termination, trunc, info = env.last()\n",
    "        \n",
    "        # Accumulate the reward for the current agent\n",
    "        total_reward[agent] += reward\n",
    "\n",
    "        # Determine the action to take:\n",
    "        # If the agent's episode has terminated or truncated, no action is taken (action = None).\n",
    "        # Otherwise, the agent performs action `1` as a placeholder.\n",
    "        action = None if (termination or trunc) else 1\n",
    "        \n",
    "        # Execute the chosen action in the environment\n",
    "        env.step(action)\n"
   ]
  },
  {
   "cell_type": "code",
   "execution_count": 21,
   "id": "fb0f6a23-84c8-4fbd-8612-404994f1b207",
   "metadata": {},
   "outputs": [],
   "source": [
    "import matplotlib.pyplot as plt\n",
    "import numpy as np\n",
    "from IPython.display import clear_output"
   ]
  },
  {
   "cell_type": "code",
   "execution_count": 22,
   "id": "1d1769f7-099a-442c-a7a3-28c2914ae1fe",
   "metadata": {},
   "outputs": [
    {
     "data": {
      "image/png": "[encoded data removed]",
      "text/plain": [
       "<Figure size 640x480 with 1 Axes>"
      ]
     },
     "metadata": {},
     "output_type": "display_data"
    },
    {
     "ename": "AssertionError",
     "evalue": "action is not in action space",
     "output_type": "error",
     "traceback": [
      "\u001b[0;31m---------------------------------------------------------------------------\u001b[0m",
      "\u001b[0;31mAssertionError\u001b[0m                            Traceback (most recent call last)",
      "Cell \u001b[0;32mIn[22], line 36\u001b[0m\n\u001b[1;32m     29\u001b[0m     action \u001b[38;5;241m=\u001b[39m (\n\u001b[1;32m     30\u001b[0m         speaker_policy\u001b[38;5;241m.\u001b[39mpredict(observation)\n\u001b[1;32m     31\u001b[0m         \u001b[38;5;28;01mif\u001b[39;00m agent \u001b[38;5;241m==\u001b[39m \u001b[38;5;124m\"\u001b[39m\u001b[38;5;124mspeaker_0\u001b[39m\u001b[38;5;124m\"\u001b[39m  \u001b[38;5;66;03m# Use the speaker policy if the agent is the speaker\u001b[39;00m\n\u001b[1;32m     32\u001b[0m         \u001b[38;5;28;01melse\u001b[39;00m listener_policy\u001b[38;5;241m.\u001b[39mpredict(observation)  \u001b[38;5;66;03m# Use the listener policy otherwise\u001b[39;00m\n\u001b[1;32m     33\u001b[0m     )\n\u001b[1;32m     35\u001b[0m \u001b[38;5;66;03m# Step the environment forward with the selected action\u001b[39;00m\n\u001b[0;32m---> 36\u001b[0m \u001b[43menv\u001b[49m\u001b[38;5;241;43m.\u001b[39;49m\u001b[43mstep\u001b[49m\u001b[43m(\u001b[49m\u001b[43maction\u001b[49m\u001b[43m)\u001b[49m\n\u001b[1;32m     38\u001b[0m \u001b[38;5;66;03m# Render the current state of the environment\u001b[39;00m\n\u001b[1;32m     39\u001b[0m img \u001b[38;5;241m=\u001b[39m env\u001b[38;5;241m.\u001b[39mrender()  \u001b[38;5;66;03m# Generate the environment's visual output\u001b[39;00m\n",
      "File \u001b[0;32m~/.cache/pypoetry/virtualenvs/learn-stable-baseline3-wCRf4qmO-py3.10/lib/python3.10/site-packages/pettingzoo/utils/wrappers/order_enforcing.py:96\u001b[0m, in \u001b[0;36mOrderEnforcingWrapper.step\u001b[0;34m(self, action)\u001b[0m\n\u001b[1;32m     94\u001b[0m \u001b[38;5;28;01melse\u001b[39;00m:\n\u001b[1;32m     95\u001b[0m     \u001b[38;5;28mself\u001b[39m\u001b[38;5;241m.\u001b[39m_has_updated \u001b[38;5;241m=\u001b[39m \u001b[38;5;28;01mTrue\u001b[39;00m\n\u001b[0;32m---> 96\u001b[0m     \u001b[38;5;28;43msuper\u001b[39;49m\u001b[43m(\u001b[49m\u001b[43m)\u001b[49m\u001b[38;5;241;43m.\u001b[39;49m\u001b[43mstep\u001b[49m\u001b[43m(\u001b[49m\u001b[43maction\u001b[49m\u001b[43m)\u001b[49m\n",
      "File \u001b[0;32m~/.cache/pypoetry/virtualenvs/learn-stable-baseline3-wCRf4qmO-py3.10/lib/python3.10/site-packages/pettingzoo/utils/wrappers/base.py:47\u001b[0m, in \u001b[0;36mBaseWrapper.step\u001b[0;34m(self, action)\u001b[0m\n\u001b[1;32m     46\u001b[0m \u001b[38;5;28;01mdef\u001b[39;00m\u001b[38;5;250m \u001b[39m\u001b[38;5;21mstep\u001b[39m(\u001b[38;5;28mself\u001b[39m, action: ActionType) \u001b[38;5;241m-\u001b[39m\u001b[38;5;241m>\u001b[39m \u001b[38;5;28;01mNone\u001b[39;00m:\n\u001b[0;32m---> 47\u001b[0m     \u001b[38;5;28;43mself\u001b[39;49m\u001b[38;5;241;43m.\u001b[39;49m\u001b[43menv\u001b[49m\u001b[38;5;241;43m.\u001b[39;49m\u001b[43mstep\u001b[49m\u001b[43m(\u001b[49m\u001b[43maction\u001b[49m\u001b[43m)\u001b[49m\n",
      "File \u001b[0;32m~/.cache/pypoetry/virtualenvs/learn-stable-baseline3-wCRf4qmO-py3.10/lib/python3.10/site-packages/pettingzoo/utils/wrappers/assert_out_of_bounds.py:18\u001b[0m, in \u001b[0;36mAssertOutOfBoundsWrapper.step\u001b[0;34m(self, action)\u001b[0m\n\u001b[1;32m     16\u001b[0m \u001b[38;5;28;01mdef\u001b[39;00m\u001b[38;5;250m \u001b[39m\u001b[38;5;21mstep\u001b[39m(\u001b[38;5;28mself\u001b[39m, action: ActionType) \u001b[38;5;241m-\u001b[39m\u001b[38;5;241m>\u001b[39m \u001b[38;5;28;01mNone\u001b[39;00m:\n\u001b[1;32m     17\u001b[0m     \u001b[38;5;28;01massert\u001b[39;00m (\n\u001b[0;32m---> 18\u001b[0m         action \u001b[38;5;129;01mis\u001b[39;00m \u001b[38;5;28;01mNone\u001b[39;00m\n\u001b[1;32m     19\u001b[0m         \u001b[38;5;129;01mand\u001b[39;00m (\n\u001b[1;32m     20\u001b[0m             \u001b[38;5;28mself\u001b[39m\u001b[38;5;241m.\u001b[39mterminations[\u001b[38;5;28mself\u001b[39m\u001b[38;5;241m.\u001b[39magent_selection]\n\u001b[1;32m     21\u001b[0m             \u001b[38;5;129;01mor\u001b[39;00m \u001b[38;5;28mself\u001b[39m\u001b[38;5;241m.\u001b[39mtruncations[\u001b[38;5;28mself\u001b[39m\u001b[38;5;241m.\u001b[39magent_selection]\n\u001b[1;32m     22\u001b[0m         )\n\u001b[1;32m     23\u001b[0m     ) \u001b[38;5;129;01mor\u001b[39;00m \u001b[38;5;28mself\u001b[39m\u001b[38;5;241m.\u001b[39maction_space(\u001b[38;5;28mself\u001b[39m\u001b[38;5;241m.\u001b[39magent_selection)\u001b[38;5;241m.\u001b[39mcontains(\n\u001b[1;32m     24\u001b[0m         action\n\u001b[1;32m     25\u001b[0m     ), \u001b[38;5;124m\"\u001b[39m\u001b[38;5;124maction is not in action space\u001b[39m\u001b[38;5;124m\"\u001b[39m\n\u001b[1;32m     26\u001b[0m     \u001b[38;5;28msuper\u001b[39m()\u001b[38;5;241m.\u001b[39mstep(action)\n",
      "\u001b[0;31mAssertionError\u001b[0m: action is not in action space"
     ]
    }
   ],
   "source": [
    "fig, ax = plt.subplots(figsize=(5, 5))  # Create a figure and axis for displaying the environment's rendering\n",
    "\n",
    "num_episodes = 1  # Set the number of episodes to simulate\n",
    "\n",
    "# Loop through each episode\n",
    "for ep in range(num_episodes):\n",
    "    env.reset()  # Reset the environment to its initial state\n",
    "\n",
    "    # Initialise the Speaker and Listener policies\n",
    "    speaker_policy = SpeakerPolicy(env.env.env.world)  # Initialise the speaker policy using the environment world\n",
    "    listener_policy = ListenerPolicy()  # Initialise the listener policy for navigation and goal decoding\n",
    "\n",
    "    # Initialise a dictionary to track total rewards for each agent\n",
    "    total_reward = {agent: 0 for agent in env.agents}\n",
    "\n",
    "    # Iterate through each agent in the environment using agent iteration\n",
    "    for agent in env.agent_iter():\n",
    "        # Retrieve the latest observation, reward, termination, truncation, and additional info for the current agent\n",
    "        observation, reward, termination, trunc, info = env.last()\n",
    "        \n",
    "        # Accumulate the total reward for the current agent\n",
    "        total_reward[agent] += reward\n",
    "\n",
    "        # Determine the action to perform based on the agent's state\n",
    "        if termination or trunc:\n",
    "            action = None  # No action is taken if the agent is terminated or truncated\n",
    "        else:\n",
    "            # Use the appropriate policy (speaker or listener) to determine the action\n",
    "            action = (\n",
    "                speaker_policy.predict(observation)\n",
    "                if agent == \"speaker_0\"  # Use the speaker policy if the agent is the speaker\n",
    "                else listener_policy.predict(observation)  # Use the listener policy otherwise\n",
    "            )\n",
    "\n",
    "        # Step the environment forward with the selected action\n",
    "        env.step(action)\n",
    "\n",
    "        # Render the current state of the environment\n",
    "        img = env.render()  # Generate the environment's visual output\n",
    "        plt.imshow(img)  # Display the rendered image using matplotlib\n",
    "\n",
    "        # Optional: Update the display in real-time\n",
    "        # Uncomment plt.show() if running outside of a Jupyter Notebook\n",
    "        # plt.show()\n",
    "        clear_output(wait=True)  # Clear the previous frame to display the new one\n",
    "        plt.pause(0.1)  # Pause for a short duration to simulate animation\n"
   ]
  },
  {
   "cell_type": "code",
   "execution_count": null,
   "id": "93412e80-c2bd-47ef-86cc-9cabafcc9384",
   "metadata": {},
   "outputs": [],
   "source": []
  }
 ],
 "metadata": {
  "kernelspec": {
   "display_name": "Python 3 (ipykernel)",
   "language": "python",
   "name": "python3"
  },
  "language_info": {
   "codemirror_mode": {
    "name": "ipython",
    "version": 3
   },
   "file_extension": ".py",
   "mimetype": "text/x-python",
   "name": "python",
   "nbconvert_exporter": "python",
   "pygments_lexer": "ipython3",
   "version": "3.10.12"
  }
 },
 "nbformat": 4,
 "nbformat_minor": 5
}
